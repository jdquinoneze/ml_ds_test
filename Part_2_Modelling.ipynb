{
 "cells": [
  {
   "cell_type": "markdown",
   "metadata": {},
   "source": [
    "<center><img src=\"images/banner_part_2.png\" align=\"center\"/></center>"
   ]
  },
  {
   "cell_type": "markdown",
   "metadata": {},
   "source": [
    "## 2. Modelado\n",
    "De los resultados de búsqueda del search, se pueden obtener datos interesantes sobre cada publicación: un campo valioso es el de `sold_quantity` que hace referencia al total de ventas históricas de un ítem.\n",
    "\n",
    "Utilizando los datos de nuestras Apis públicas, el desafío es el de armar un dataset y un modelo que permita predecir con atributos de la publicación el valor de `sold_quantity`.\n"
   ]
  },
  {
   "cell_type": "code",
   "execution_count": 2,
   "metadata": {},
   "outputs": [],
   "source": [
    "import pandas as pd\n",
    "import numpy as np"
   ]
  },
  {
   "cell_type": "code",
   "execution_count": null,
   "metadata": {},
   "outputs": [],
   "source": [
    "import glob\n",
    "file_list = glob.glob(\"data/*.csv\") \n",
    "data_ml = pd.DataFrame()\n",
    "\n",
    "for file in file_list:\n",
    "    file_up = pd.read_csv(file)\n",
    "    data_ml.append(file_up)\n",
    "    del file_up"
   ]
  }
 ],
 "metadata": {
  "kernelspec": {
   "display_name": "Python 3",
   "language": "python",
   "name": "python3"
  },
  "language_info": {
   "codemirror_mode": {
    "name": "ipython",
    "version": 3
   },
   "file_extension": ".py",
   "mimetype": "text/x-python",
   "name": "python",
   "nbconvert_exporter": "python",
   "pygments_lexer": "ipython3",
   "version": "3.8.5"
  }
 },
 "nbformat": 4,
 "nbformat_minor": 4
}
